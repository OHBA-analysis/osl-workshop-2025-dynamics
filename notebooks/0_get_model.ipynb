{
 "cells": [
  {
   "cell_type": "markdown",
   "id": "6c4abf99",
   "metadata": {},
   "source": [
    "# Download a Pre-Trained HMM\n",
    "\n",
    "We train an HMM in `2-1_hmm-training.ipynb`. However, in case this takes to long to run locally or for those that wish to skip the model training, we provide an HMM on [OSF](https://osf.io/zxb6c/) that has already been trained on the 5 sessions from Wakeman-Henson."
   ]
  },
  {
   "cell_type": "code",
   "execution_count": null,
   "id": "c5a9814e",
   "metadata": {},
   "outputs": [],
   "source": [
    "import os\n",
    "\n",
    "if os.path.exists(\"results/model\"):\n",
    "    print(f\"results/model already downloaded. Skipping..\")\n",
    "else:\n",
    "    os.system(\"osf -p zxb6c fetch 4.Dynamics/trained_models/wakeman-henson.zip\")\n",
    "    os.makedirs(\"results\", exist_ok=True)\n",
    "    os.system(\"unzip -o wakeman-henson.zip -d results/model\")\n",
    "    os.remove(\"wakeman-henson.zip\")\n",
    "    print(f\"Data downloaded to: results/model\")"
   ]
  }
 ],
 "metadata": {
  "kernelspec": {
   "display_name": "Python 3 (ipykernel)",
   "language": "python",
   "name": "python3"
  },
  "language_info": {
   "codemirror_mode": {
    "name": "ipython",
    "version": 3
   },
   "file_extension": ".py",
   "mimetype": "text/x-python",
   "name": "python",
   "nbconvert_exporter": "python",
   "pygments_lexer": "ipython3",
   "version": "3.12.10"
  }
 },
 "nbformat": 4,
 "nbformat_minor": 5
}
