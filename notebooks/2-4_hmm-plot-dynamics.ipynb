{
 "cells": [
  {
   "cell_type": "markdown",
   "id": "8c80a6b2",
   "metadata": {},
   "source": [
    "# Notebook 2-4: Plot HMM Network Dynamics\n",
    "\n",
    "In this notebook we will cover:\n",
    "1. **Summary statistics visualisation**: We will compute and visualise summary statistics of the state time courses."
   ]
  },
  {
   "cell_type": "markdown",
   "id": "2022c364",
   "metadata": {},
   "source": [
    "## 1. Summary statistics visualisation\n",
    "In this section we will compute\n",
    "- Fractional occupancy\n",
    "- Lifetime\n",
    "- Interval time\n",
    "- Switching rate\n",
    "\n",
    "of the state time courses.\n",
    "\n",
    "Exercise:\n",
    "Where can you find information on what these statistics mean and how they are computed?"
   ]
  },
  {
   "cell_type": "markdown",
   "id": "f684d528",
   "metadata": {},
   "source": [
    "First we load the posterior state probabilities $\\alpha$ and turn them into state time courses"
   ]
  },
  {
   "cell_type": "code",
   "execution_count": null,
   "id": "b2ffda71",
   "metadata": {},
   "outputs": [],
   "source": [
    "import pickle\n",
    "from osl_dynamics.inference import modes\n",
    "\n",
    "alp = pickle.load(open(\"results/inf_params/alp.pkl\", \"rb\"))\n",
    "stc = modes.argmax_time_courses(alp)"
   ]
  },
  {
   "cell_type": "markdown",
   "id": "bfa84026",
   "metadata": {},
   "source": [
    "Next we compute the summary statistics."
   ]
  },
  {
   "cell_type": "code",
   "execution_count": null,
   "id": "ee93c640",
   "metadata": {},
   "outputs": [],
   "source": [
    "import os\n",
    "import numpy as np\n",
    "\n",
    "fo = modes.fractional_occupancies(stc)\n",
    "lt = modes.mean_lifetimes(stc, sampling_frequency=250)\n",
    "intv = modes.mean_intervals(stc, sampling_frequency=250)\n",
    "sr = modes.switching_rates(stc, sampling_frequency=250)\n",
    "\n",
    "sum_stats_dir = \"results/summary_stats\"\n",
    "os.makedirs(sum_stats_dir, exist_ok=True)\n",
    "np.save(f\"{sum_stats_dir}/fo.npy\", fo)\n",
    "np.save(f\"{sum_stats_dir}/lt.npy\", lt)\n",
    "np.save(f\"{sum_stats_dir}/intv.npy\", intv)\n",
    "np.save(f\"{sum_stats_dir}/sr.npy\", sr)\n"
   ]
  },
  {
   "cell_type": "markdown",
   "id": "08ed792f",
   "metadata": {},
   "source": [
    "At last we visualise the summary statistics."
   ]
  },
  {
   "cell_type": "code",
   "execution_count": null,
   "id": "f1229c3d",
   "metadata": {},
   "outputs": [],
   "source": [
    "from osl_dynamics.utils import plotting\n",
    "\n",
    "fig, ax = plotting.plot_hmm_summary_stats(\n",
    "    fo, lt, intv, sr\n",
    ")\n",
    "fig.savefig(f\"{sum_stats_dir}/sum_stats.png\")\n"
   ]
  }
 ],
 "metadata": {
  "kernelspec": {
   "display_name": "Python 3 (ipykernel)",
   "language": "python",
   "name": "python3"
  },
  "language_info": {
   "codemirror_mode": {
    "name": "ipython",
    "version": 3
   },
   "file_extension": ".py",
   "mimetype": "text/x-python",
   "name": "python",
   "nbconvert_exporter": "python",
   "pygments_lexer": "ipython3",
   "version": "3.12.10"
  }
 },
 "nbformat": 4,
 "nbformat_minor": 5
}
