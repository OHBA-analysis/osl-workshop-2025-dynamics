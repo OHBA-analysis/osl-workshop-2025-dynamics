{
 "cells": [
  {
   "cell_type": "markdown",
   "id": "170cf327",
   "metadata": {},
   "source": [
    "# Download Parcellated Data"
   ]
  },
  {
   "cell_type": "markdown",
   "id": "acee1991",
   "metadata": {},
   "source": [
    "In this workshop, we will be using the **Wakeman-Henson** dataset. This is a simple visual perception task where participants were presented with an image of famous or unfamiliar face or a scrambled image. \n",
    "\n",
    "There are 19 subjects in the dataset and each subject underwent 6 sessions. But we will only use the first session of 5 subjects in this tutorial.\n",
    "\n",
    "We refer to the original paper [Wakeman, D. G., & Henson, R. N. (2015). A multi-subject, multi-modal human neuroimaging dataset. Scientific Data, 2(1), 1–10.](https://doi.org/10.1038/sdata.2015.1) for more details on the dataset and experimental setup."
   ]
  },
  {
   "cell_type": "markdown",
   "id": "18232735",
   "metadata": {},
   "source": [
    "The following code will download the dataset preprocessed, source-reconstructed and parcellated with the [osl-ephys](https://github.com/OHBA-analysis/osl-ephys) toolbox."
   ]
  },
  {
   "cell_type": "code",
   "execution_count": null,
   "id": "ca0f5761",
   "metadata": {},
   "outputs": [],
   "source": [
    "import os\n",
    "\n",
    "if os.path.exists(\"wakeman-henson\"):\n",
    "    print(f\"wakeman-henson already downloaded. Skipping..\")\n",
    "else:\n",
    "    os.system(\"osf -p zxb6c fetch 4.Dynamics/datasets/wakeman-henson.zip\")\n",
    "    os.system(\"unzip -o wakeman-henson.zip -d wakeman-henson\")\n",
    "    os.remove(\"wakeman-henson.zip\")\n",
    "    print(f\"Data downloaded to: wakeman-henson\")"
   ]
  },
  {
   "cell_type": "code",
   "execution_count": null,
   "id": "99a62088-4a62-4c96-854b-ec5858d7e10e",
   "metadata": {},
   "outputs": [],
   "source": []
  }
 ],
 "metadata": {
  "kernelspec": {
   "display_name": "Python 3 (ipykernel)",
   "language": "python",
   "name": "python3"
  },
  "language_info": {
   "codemirror_mode": {
    "name": "ipython",
    "version": 3
   },
   "file_extension": ".py",
   "mimetype": "text/x-python",
   "name": "python",
   "nbconvert_exporter": "python",
   "pygments_lexer": "ipython3",
   "version": "3.12.10"
  }
 },
 "nbformat": 4,
 "nbformat_minor": 5
}
