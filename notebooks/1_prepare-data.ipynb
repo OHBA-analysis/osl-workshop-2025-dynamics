{
 "cells": [
  {
   "cell_type": "markdown",
   "id": "db88e452",
   "metadata": {
    "editable": true,
    "slideshow": {
     "slide_type": ""
    },
    "tags": []
   },
   "source": [
    "# Notebook 1: Prepare TDE-PCA data\n",
    "\n",
    "In this notebook, we will cover:\n",
    "1. **Data loading**: How to load data with the osl_dynamics `Data` API.\n",
    "2. **Data preparation**: How to prepare data for training.\n",
    "3. **Saving prepared data**: How to save prepared data for later use."
   ]
  },
  {
   "cell_type": "markdown",
   "id": "c4333ac8",
   "metadata": {},
   "source": [
    "## 1. Data loading"
   ]
  },
  {
   "cell_type": "markdown",
   "id": "20c33713",
   "metadata": {},
   "source": [
    "We can first find the `.fif` files we have downloaded. A good way to find matching files is to use the `glob` library and use `sorted` to sort the filenames alphabetically."
   ]
  },
  {
   "cell_type": "code",
   "execution_count": null,
   "id": "8bb30639",
   "metadata": {
    "editable": true,
    "slideshow": {
     "slide_type": ""
    },
    "tags": []
   },
   "outputs": [],
   "source": [
    "from glob import glob\n",
    "from pprint import pprint\n",
    "\n",
    "files = sorted(glob(\"wakeman-henson/*/*_sflip_lcmv-parc-raw.fif\"))\n",
    "pprint(files)"
   ]
  },
  {
   "cell_type": "markdown",
   "id": "e399ad9c",
   "metadata": {
    "editable": true,
    "slideshow": {
     "slide_type": ""
    },
    "tags": []
   },
   "source": [
    "You should see 5 filenames being printed. If you find that an empty list is printed, it is because the data files have not been downloaded. Please check out the `0_get_data.ipynb` notebook and download the data.\n",
    "\n",
    "Next we will load the data using the `Data` API in `osl_dynamics`. The `Data` API is a convenient way to load data and prepare it for training. It will automatically handle the loading of the data, the splitting into training and test sets if you need, and the pipeline for creating TensorFlow Datasets. You can check the [documentation](https://osl-dynamics.readthedocs.io/en/latest/autoapi/osl_dynamics/data/base/index.html#osl_dynamics.data.base.Data) for more details on the `Data` API."
   ]
  },
  {
   "cell_type": "code",
   "execution_count": null,
   "id": "b9d35985",
   "metadata": {
    "editable": true,
    "slideshow": {
     "slide_type": ""
    },
    "tags": []
   },
   "outputs": [],
   "source": [
    "from osl_dynamics.data import Data\n",
    "data = Data(files, picks=\"misc\", reject_by_annotation=\"omit\")"
   ]
  },
  {
   "cell_type": "markdown",
   "id": "8235d966",
   "metadata": {
    "editable": true,
    "slideshow": {
     "slide_type": ""
    },
    "tags": []
   },
   "source": [
    "Notice that we have used `picks=\"misc\"` to only select the `misc` channels. This is because there are additional channels correponding to stimuli that are not needed for the training. We have also used `reject_by_annotation=\"omit\"` to remove bad segments labelled during data preprocessing. We can have a look at the summary of the `Data` object by directly printing it."
   ]
  },
  {
   "cell_type": "code",
   "execution_count": null,
   "id": "0db995e4",
   "metadata": {
    "editable": true,
    "slideshow": {
     "slide_type": ""
    },
    "tags": []
   },
   "outputs": [],
   "source": [
    "print(data)"
   ]
  },
  {
   "cell_type": "markdown",
   "id": "e9d35384",
   "metadata": {
    "editable": true,
    "slideshow": {
     "slide_type": ""
    },
    "tags": []
   },
   "source": [
    "You can get access to the numpy arrays of the original time series data by calling the `data.time_series()` method."
   ]
  },
  {
   "cell_type": "code",
   "execution_count": null,
   "id": "e02cc402",
   "metadata": {
    "editable": true,
    "slideshow": {
     "slide_type": ""
    },
    "tags": []
   },
   "outputs": [],
   "source": [
    "for x in data.time_series():\n",
    "    print(x.shape)"
   ]
  },
  {
   "cell_type": "markdown",
   "id": "e6cc09f6",
   "metadata": {
    "editable": true,
    "slideshow": {
     "slide_type": ""
    },
    "tags": []
   },
   "source": [
    "In the above we used the `Data` API to load `.fif` files. But the API can also load data in other formats. Data can be loaded from:\n",
    "- `.fif` files\n",
    "- `.mat` files\n",
    "- `.npy` files\n",
    "- path to a directory containing files with the above extensions\n",
    "\n",
    "See the [online tutorial](https://osl-dynamics.readthedocs.io/en/latest/tutorials_build/data_loading.html) for more details."
   ]
  },
  {
   "cell_type": "markdown",
   "id": "6de17fc8",
   "metadata": {
    "editable": true,
    "slideshow": {
     "slide_type": ""
    },
    "tags": []
   },
   "source": [
    "## 2. Data preparation\n",
    "Now we move on to preparing the data for training. We will use *Time Delayed Embedding* (TDE) to include spectral information into the data and use *Principle Component Analysis* (PCA) to reduce the dimensionality of the data. The `Data` API comes with a convenient method to do all this:"
   ]
  },
  {
   "cell_type": "code",
   "execution_count": null,
   "id": "a34b7c03",
   "metadata": {
    "editable": true,
    "slideshow": {
     "slide_type": ""
    },
    "tags": []
   },
   "outputs": [],
   "source": [
    "data.tde_pca(n_embeddings=15, n_pca_components=80)"
   ]
  },
  {
   "cell_type": "markdown",
   "id": "9aeee445",
   "metadata": {
    "editable": true,
    "slideshow": {
     "slide_type": ""
    },
    "tags": []
   },
   "source": [
    "We have used `n_embeddings=15` to add `±7` lagged versions of the data as extra channels and `n_components=80` to reduce the dimensionality of the data to 80 components.\n",
    "\n",
    "A rough rule of thumb is to use higher `n_embeddings` for data with higher sampling frequency. The following combinations have been found to work well and are a good starting point:\n",
    "- 100 Hz: `n_embeddings=7`, `n_components=2 * data.n_channels`\n",
    "- 250 Hz: `n_embeddings=15`, `n_components=2 * data.n_channels`\n",
    "\n",
    "For more details on the effect of `n_embeddings`, check out the [online tutorial](https://osl-dynamics.readthedocs.io/en/latest/tutorials_build/data_time_delay_embedding.html) where you can try out different values for `n_embeddings` to see how it affects the data.\n",
    "\n",
    "Next we will standardise (z-transform) the data for training. This is a common practice and is done to make sure that the data is centred and has unit variance. This is important for stability and convergence of model training.\n",
    "\n",
    "Please note that the standardisation is done for each channel and each session separately."
   ]
  },
  {
   "cell_type": "code",
   "execution_count": null,
   "id": "d91d02b8",
   "metadata": {
    "editable": true,
    "slideshow": {
     "slide_type": ""
    },
    "tags": []
   },
   "outputs": [],
   "source": [
    "data.standardize()"
   ]
  },
  {
   "cell_type": "markdown",
   "id": "e56e9712",
   "metadata": {
    "editable": true,
    "slideshow": {
     "slide_type": ""
    },
    "tags": []
   },
   "source": [
    "Notice some preparation methods change the number of time points, in particular after TDE, `n_embeddings // 2` time points are removed from the beginning and the end of the time series. We can see this by printing the shape of the data now:"
   ]
  },
  {
   "cell_type": "code",
   "execution_count": null,
   "id": "cf9eafe8",
   "metadata": {
    "editable": true,
    "slideshow": {
     "slide_type": ""
    },
    "tags": []
   },
   "outputs": [],
   "source": [
    "for x in data.time_series():\n",
    "    print(x.shape)"
   ]
  },
  {
   "cell_type": "markdown",
   "id": "c947a54e",
   "metadata": {
    "editable": true,
    "slideshow": {
     "slide_type": ""
    },
    "tags": []
   },
   "source": [
    "We can still get access to the original time series data before preparation by setting `prepared=False` in the `data.time_series()` method.:"
   ]
  },
  {
   "cell_type": "code",
   "execution_count": null,
   "id": "b8eb64ec",
   "metadata": {
    "editable": true,
    "slideshow": {
     "slide_type": ""
    },
    "tags": []
   },
   "outputs": [],
   "source": [
    "for x in data.time_series(prepared=False):\n",
    "    print(x.shape)"
   ]
  },
  {
   "cell_type": "markdown",
   "id": "c8e050cd",
   "metadata": {
    "editable": true,
    "slideshow": {
     "slide_type": ""
    },
    "tags": []
   },
   "source": [
    "### Further notes on data preparation"
   ]
  },
  {
   "cell_type": "markdown",
   "id": "01f62974",
   "metadata": {
    "editable": true,
    "slideshow": {
     "slide_type": ""
    },
    "tags": []
   },
   "source": [
    "The above steps for preparing data can also be chained together and done with the `Data.prepare()` method. This is a convenient way to specify the entire pipeline for preparing the data.\n",
    "\n",
    "```python\n",
    "data.prepare(\n",
    "    {\n",
    "        \"tde_pca\": {\"n_embeddings\": 15, \"n_components\": 80},\n",
    "        \"standardise\": {},\n",
    "    }\n",
    ")\n",
    "```\n",
    "Other methods for preparing the data are also available. These include and are not limited to:\n",
    "- Select channels: `Data.select()`\n",
    "- Butterworth filter: `Data.filter()`\n",
    "- Downsample: `Data.downsample()`\n",
    "- Principal component analysis (PCA): `Data.pca()`\n",
    "- Time-delay embedding (TDE): `Data.tde()`\n",
    "- PCA-TDE: `Data.pca_tde()`\n",
    "- Amplitude envelope: `Data.amplitude_envelope()`\n",
    "- Moving average: `Data.moving_average()`\n",
    "- Standardise (z-transform): `Data.standardize()`\n",
    "- Dipole sign flipping: `Data.align_channel_signs()`\n",
    "- Remove bad segments: `Data.remove_bad_segments()`\n",
    "\n",
    "See [API reference](https://osl-dynamics.readthedocs.io/en/latest/autoapi/osl_dynamics/data/base/index.html#osl_dynamics.data.base.Data) for details on arguments and options for each method."
   ]
  },
  {
   "cell_type": "markdown",
   "id": "458ab9f9",
   "metadata": {
    "editable": true,
    "slideshow": {
     "slide_type": ""
    },
    "tags": []
   },
   "source": [
    "## 3. Saving prepared data\n",
    "Finally we can save our prepared data to disk for later use."
   ]
  },
  {
   "cell_type": "code",
   "execution_count": null,
   "id": "0ed129b3",
   "metadata": {
    "editable": true,
    "slideshow": {
     "slide_type": ""
    },
    "tags": []
   },
   "outputs": [],
   "source": [
    "data.save(\"prepared_data\")"
   ]
  },
  {
   "cell_type": "markdown",
   "id": "0230a60a",
   "metadata": {
    "editable": true,
    "slideshow": {
     "slide_type": ""
    },
    "tags": []
   },
   "source": [
    "## Parallelise data preparation\n",
    "The `Data` API also supports parallelisation of data preparation. This is done by using the `n_jobs` argument when creating the `Data` object.\n",
    "\n",
    "```python\n",
    "data = Data(files, picks=\"misc\", reject_by_annotation=\"omit\", n_jobs=4)\n",
    "```\n",
    "This will use 4 CPU cores to load and prepare the data, which can significantly speed up the process especially for datasets with large number of sessions."
   ]
  },
  {
   "cell_type": "markdown",
   "id": "3031ce7a",
   "metadata": {
    "editable": true,
    "slideshow": {
     "slide_type": ""
    },
    "tags": []
   },
   "source": [
    "## Exercise\n",
    "Try to prepare the data with amplitude envelope and moving average."
   ]
  },
  {
   "cell_type": "markdown",
   "id": "3e12b0f8",
   "metadata": {},
   "source": []
  },
  {
   "cell_type": "markdown",
   "id": "b1cc7684",
   "metadata": {},
   "source": []
  },
  {
   "cell_type": "markdown",
   "id": "9f64c0ef",
   "metadata": {},
   "source": []
  },
  {
   "cell_type": "markdown",
   "id": "30d253c6",
   "metadata": {},
   "source": [
    "## Solution"
   ]
  },
  {
   "cell_type": "code",
   "execution_count": null,
   "id": "948b41c2",
   "metadata": {
    "editable": true,
    "slideshow": {
     "slide_type": ""
    },
    "tags": [
     "hide-input"
    ]
   },
   "outputs": [],
   "source": [
    "data.prepare(\n",
    "    {\n",
    "        \"amplitude_envelope\": {\"use_raw\": True},\n",
    "        \"moving_average\": {\"n_window\": 5},\n",
    "    }\n",
    ")"
   ]
  },
  {
   "cell_type": "markdown",
   "id": "29f3ccd4",
   "metadata": {
    "editable": true,
    "slideshow": {
     "slide_type": ""
    },
    "tags": []
   },
   "source": [
    "We can check the effect by plotting the amplitude envelope data and the original data of channel 0 of the first session."
   ]
  },
  {
   "cell_type": "code",
   "execution_count": null,
   "id": "40272842",
   "metadata": {
    "editable": true,
    "slideshow": {
     "slide_type": ""
    },
    "tags": [
     "hide-input"
    ]
   },
   "outputs": [],
   "source": [
    "from matplotlib import pyplot as plt\n",
    "import numpy as np\n",
    "\n",
    "\n",
    "def plot_ae(data, n_samples):\n",
    "    timestamps = np.arange(n_samples) / 250\n",
    "    original_x = data.time_series(prepared=False)[0][:n_samples]\n",
    "    ae_x = data.time_series()[0][:n_samples]\n",
    "\n",
    "    plt.figure(figsize=(10, 5))\n",
    "    plt.plot(timestamps, original_x[:, 0], label=\"Original\", color=\"black\", alpha=0.5)\n",
    "    plt.plot(timestamps, ae_x[:, 0], label=\"Amplitude Envelope\", color=\"red\", alpha=0.5)\n",
    "    plt.title(\"Amplitude Envelope\")\n",
    "    plt.xlabel(\"Time\")\n",
    "    plt.ylabel(\"Signal\")\n",
    "    plt.legend()\n",
    "    plt.show()\n",
    "\n",
    "plot_ae(data, n_samples=2000)\n",
    "\n",
    "    "
   ]
  }
 ],
 "metadata": {
  "kernelspec": {
   "display_name": "Python 3 (ipykernel)",
   "language": "python",
   "name": "python3"
  },
  "language_info": {
   "codemirror_mode": {
    "name": "ipython",
    "version": 3
   },
   "file_extension": ".py",
   "mimetype": "text/x-python",
   "name": "python",
   "nbconvert_exporter": "python",
   "pygments_lexer": "ipython3",
   "version": "3.12.10"
  }
 },
 "nbformat": 4,
 "nbformat_minor": 5
}
