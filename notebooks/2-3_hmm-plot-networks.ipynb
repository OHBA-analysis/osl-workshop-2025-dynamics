{
 "cells": [
  {
   "cell_type": "markdown",
   "id": "9fcb5706",
   "metadata": {},
   "source": [
    "# Notebook 2-3: Plot HMM Networks\n",
    "\n",
    "In this notebook, we will cover:\n",
    "1. **Power maps visualisation**: How to plot power maps for each HMM state.\n",
    "2. **Connectivity maps visualisation**: How to plot connectivity maps for each HMM state."
   ]
  },
  {
   "cell_type": "markdown",
   "id": "0bda17e1",
   "metadata": {},
   "source": [
    "# 1. Power maps visualisation\n",
    "In this section, we will plot the power map for each HMM state. First we will load the spectral content of the HMM states we computed in the previous notebook with multitaper."
   ]
  },
  {
   "cell_type": "code",
   "execution_count": null,
   "id": "537eee3a",
   "metadata": {},
   "outputs": [],
   "source": [
    "import numpy as np\n",
    "f = np.load(\"results/spectra/f.npy\")\n",
    "psd = np.load(\"results/spectra/psd.npy\")\n",
    "coh = np.load(\"results/spectra/coh.npy\")\n",
    "w = np.load(\"results/spectra/w.npy\")\n",
    "nnmf = np.load(\"results/spectra/nnmf_2.npy\")"
   ]
  },
  {
   "cell_type": "markdown",
   "id": "b629c4cf",
   "metadata": {},
   "source": [
    "We will first have a look at the 2 components from the non-negative matrix factorisation. Note we have provided the nnmf components if we have the full 114 sessions from Wakeman-Henson."
   ]
  },
  {
   "cell_type": "code",
   "execution_count": null,
   "id": "1ac2d0f0",
   "metadata": {},
   "outputs": [],
   "source": [
    "import os\n",
    "from osl_dynamics.utils import plotting\n",
    "\n",
    "os.makedirs(\"plots\", exist_ok=True)\n",
    "fig, ax = plotting.plot_line(\n",
    "    [f, f],\n",
    "    nnmf,\n",
    "    x_label=\"Frequency (Hz)\",\n",
    "    y_label=\"Weighting\",\n",
    ")\n",
    "fig.savefig(\"plots/nnmf_2.png\",)"
   ]
  },
  {
   "cell_type": "markdown",
   "id": "54e2bb8f",
   "metadata": {},
   "source": [
    "Now we can integrate the PSD across frequency and plot the power maps"
   ]
  },
  {
   "cell_type": "code",
   "execution_count": null,
   "id": "9f0b9636",
   "metadata": {},
   "outputs": [],
   "source": [
    "from osl_dynamics.analysis import power\n",
    "\n",
    "gpsd = np.average(psd, axis=0, weights=w)\n",
    "p = power.variance_from_spectra(f, gpsd, nnmf)\n",
    "power.save(\n",
    "    p,\n",
    "    mask_file=\"MNI152_T1_8mm_brain.nii.gz\",\n",
    "    parcellation_file=\"fmri_d100_parcellation_with_PCC_reduced_2mm_ss5mm_ds8mm.nii.gz\",\n",
    "    subtract_mean=True,\n",
    "    component=0,\n",
    "    combined=True,\n",
    "    filename=\"plots/pow_nnmf-0_.png\",\n",
    ")"
   ]
  },
  {
   "cell_type": "markdown",
   "id": "afb680e0",
   "metadata": {},
   "source": [
    "# 2. Connectivity maps visualisation\n",
    "In this section, we will plot the connectivity map (coherence) for each HMM state."
   ]
  },
  {
   "cell_type": "code",
   "execution_count": null,
   "id": "308c44f6",
   "metadata": {},
   "outputs": [],
   "source": [
    "from osl_dynamics.analysis import connectivity\n",
    "\n",
    "# Plot state coherence networks\n",
    "gcoh = np.average(coh, axis=0, weights=w)\n",
    "c = connectivity.mean_coherence_from_spectra(f, gcoh, nnmf)\n",
    "c -= np.mean(c, axis=0, keepdims=True)\n",
    "c = connectivity.threshold(c, percentile=98, absolute_value=True)\n",
    "connectivity.save(\n",
    "    c,\n",
    "    parcellation_file=\"fmri_d100_parcellation_with_PCC_reduced_2mm_ss5mm_ds8mm.nii.gz\",\n",
    "    component=0,\n",
    "    combined=True,\n",
    "    filename=\"plots/coh_nnmf-0_.png\",\n",
    ")"
   ]
  },
  {
   "cell_type": "markdown",
   "id": "f31c4b88",
   "metadata": {},
   "source": [
    "Notice we have thresholded the coherence values to only show the top 2% of the edges for better visualisation.\n",
    "\n",
    "Exercise: Try to change the threshold and see how the connectivity maps change."
   ]
  },
  {
   "cell_type": "markdown",
   "id": "9ea512f8",
   "metadata": {},
   "source": [
    "You can also specify a particular frequency range to integrate over."
   ]
  },
  {
   "cell_type": "code",
   "execution_count": null,
   "id": "598f0902",
   "metadata": {},
   "outputs": [],
   "source": [
    "c = connectivity.mean_coherence_from_spectra(f, gcoh, frequency_range=[8, 12])\n",
    "c -= np.mean(c, axis=0, keepdims=True)\n",
    "c = connectivity.threshold(c, percentile=98, absolute_value=True)\n",
    "connectivity.save(\n",
    "    c,\n",
    "    parcellation_file=\"fmri_d100_parcellation_with_PCC_reduced_2mm_ss5mm_ds8mm.nii.gz\",\n",
    "    combined=True,\n",
    "    filename=\"plots/coh_alpha-range_.png\",\n",
    ")\n"
   ]
  },
  {
   "cell_type": "markdown",
   "id": "a86de36b",
   "metadata": {},
   "source": [
    "Exercise: \n",
    "- Try different frequency ranges and similarly do this for power maps.\n",
    "- Can you plot session-specific power and connectivity maps?"
   ]
  }
 ],
 "metadata": {
  "kernelspec": {
   "display_name": "Python 3 (ipykernel)",
   "language": "python",
   "name": "python3"
  },
  "language_info": {
   "codemirror_mode": {
    "name": "ipython",
    "version": 3
   },
   "file_extension": ".py",
   "mimetype": "text/x-python",
   "name": "python",
   "nbconvert_exporter": "python",
   "pygments_lexer": "ipython3",
   "version": "3.12.10"
  }
 },
 "nbformat": 4,
 "nbformat_minor": 5
}
