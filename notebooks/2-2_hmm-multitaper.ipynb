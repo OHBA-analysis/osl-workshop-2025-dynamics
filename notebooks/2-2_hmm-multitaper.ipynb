{
 "cells": [
  {
   "cell_type": "markdown",
   "id": "a22451df",
   "metadata": {},
   "source": [
    "# Notebook 2-2: HMM Post-Hoc Spectral Estimation\n",
    "\n",
    "In this notebook, we will cover the following topics:\n",
    "1. **Multitaper Spectral Estimation**: We will use the multitaper method to estimate the spectral characteristics of the HMM states.\n",
    "2. **Non-negative Matrix Factorization (NNMF)**: We will apply NMF to the data to extract features that can be used for further analysis.\n"
   ]
  },
  {
   "cell_type": "markdown",
   "id": "28bb4229",
   "metadata": {},
   "source": [
    "## 1. Multitaper Spectral Estimation\n",
    "Here we will use the multitaper to estimate the state-specific power spectral density (PSD) and coherence. We will make use of the original data as well as the inferred state time courses. First, we need to load the original data and the inferred state time coruses."
   ]
  },
  {
   "cell_type": "code",
   "execution_count": 1,
   "id": "4d79c1d6",
   "metadata": {},
   "outputs": [
    {
     "data": {
      "application/vnd.jupyter.widget-view+json": {
       "model_id": "08b9e70aa55c4cd4a4228bd3a4c010a5",
       "version_major": 2,
       "version_minor": 0
      },
      "text/plain": [
       "Loading files:   0%|          | 0/5 [00:00<?, ?it/s]"
      ]
     },
     "metadata": {},
     "output_type": "display_data"
    }
   ],
   "source": [
    "import pickle\n",
    "from glob import glob\n",
    "from osl_dynamics.data import Data\n",
    "\n",
    "alpha = pickle.load(open(\"results/inf_params/alp.pkl\", \"rb\"))\n",
    "files = sorted(glob(\"wakeman-henson/*/*_sflip_lcmv-parc-raw.fif\"))\n",
    "data = Data(files, picks=\"misc\", reject_by_annotation=\"omit\")\n",
    "trimmed_data = data.trim_time_series(n_embeddings=15, sequence_length=200)"
   ]
  },
  {
   "cell_type": "markdown",
   "id": "d842b2ab",
   "metadata": {},
   "source": [
    "Quick Q: Why do we need to trim the original data?\n",
    "\n",
    "Quick sanity check to make sure the data and alpha has the same length."
   ]
  },
  {
   "cell_type": "code",
   "execution_count": 2,
   "id": "9e62f2c0",
   "metadata": {},
   "outputs": [
    {
     "name": "stdout",
     "output_type": "stream",
     "text": [
      "(121800, 38) (121800, 6)\n",
      "(118600, 38) (118600, 6)\n",
      "(116400, 38) (116400, 6)\n",
      "(120800, 38) (120800, 6)\n",
      "(120800, 38) (120800, 6)\n"
     ]
    }
   ],
   "source": [
    "for d, a in zip(trimmed_data, alpha):\n",
    "    print(d.shape, a.shape)"
   ]
  },
  {
   "cell_type": "markdown",
   "id": "37e40d05",
   "metadata": {},
   "source": [
    "Next we perform the multitaper with the `multitaper_spectra` function in the `osl_dynamics.analysis.spectra` module."
   ]
  },
  {
   "cell_type": "code",
   "execution_count": 3,
   "id": "1c410904",
   "metadata": {},
   "outputs": [
    {
     "data": {
      "application/vnd.jupyter.widget-view+json": {
       "model_id": "b3f1b3a9d03d4ecc961c6cc68399cde4",
       "version_major": 2,
       "version_minor": 0
      },
      "text/plain": [
       "Calculating spectra:   0%|          | 0/5 [00:00<?, ?it/s]"
      ]
     },
     "metadata": {},
     "output_type": "display_data"
    }
   ],
   "source": [
    "import os\n",
    "import numpy as np\n",
    "from osl_dynamics.analysis import spectral\n",
    "\n",
    "f, psd, coh, w = spectral.multitaper_spectra(\n",
    "    data=trimmed_data,\n",
    "    alpha=alpha,\n",
    "    sampling_frequency=250,\n",
    "    frequency_range=[0.5, 45],\n",
    "    return_weights=True,\n",
    ")\n",
    "\n",
    "spectra_dir = \"results/spectra\"\n",
    "os.makedirs(spectra_dir, exist_ok=True)\n",
    "\n",
    "np.save(f\"{spectra_dir}/f.npy\", f)\n",
    "np.save(f\"{spectra_dir}/psd.npy\", psd)\n",
    "np.save(f\"{spectra_dir}/coh.npy\", coh)\n",
    "np.save(f\"{spectra_dir}/w.npy\", w)"
   ]
  },
  {
   "cell_type": "markdown",
   "id": "02814823",
   "metadata": {},
   "source": [
    "**Quick Q**: What if you have lots of session? How do you handle that in the multitaper?"
   ]
  },
  {
   "cell_type": "markdown",
   "id": "ed8bec11",
   "metadata": {},
   "source": [
    "# 2. Non-negative Matrix Factorization (NNMF)\n",
    "Next we will use the non-negative matrix factorisation (NNMF) to decompose the PSD into a set of basis functions. This is useful for visualising the spectral characteristics of each state."
   ]
  },
  {
   "cell_type": "code",
   "execution_count": 4,
   "id": "8f88cb4f",
   "metadata": {},
   "outputs": [
    {
     "name": "stderr",
     "output_type": "stream",
     "text": [
      "2025-05-16 16:51:38 INFO osl-dynamics [spectral.py:1080:decompose_spectra]: Performing spectral decomposition\n"
     ]
    }
   ],
   "source": [
    "nnmf = spectral.decompose_spectra(coh, n_components=2)\n",
    "\n",
    "np.save(f\"{spectra_dir}/nnmf_2.npy\", nnmf)"
   ]
  }
 ],
 "metadata": {
  "kernelspec": {
   "display_name": "Python 3 (ipykernel)",
   "language": "python",
   "name": "python3"
  },
  "language_info": {
   "codemirror_mode": {
    "name": "ipython",
    "version": 3
   },
   "file_extension": ".py",
   "mimetype": "text/x-python",
   "name": "python",
   "nbconvert_exporter": "python",
   "pygments_lexer": "ipython3",
   "version": "3.12.9"
  }
 },
 "nbformat": 4,
 "nbformat_minor": 5
}
