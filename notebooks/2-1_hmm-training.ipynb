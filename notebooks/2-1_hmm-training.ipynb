{
 "cells": [
  {
   "cell_type": "markdown",
   "id": "42e2c838",
   "metadata": {},
   "source": [
    "# Notebook 2-1: HMM Training\n",
    "\n",
    "In this notebook, we will cover\n",
    "1. **Loading prepared data**: We will load the prepared data from the previous notebook.\n",
    "2. **Configuring the HMM**: We will configure the HMM with the appropriate parameters.\n",
    "3. **Training the HMM (optional)**: We will train the HMM using the prepared data.\n",
    "4. **Loading a pre-trained HMM**: We will load a pre-trained HMM for inference.\n",
    "5. **Inference with the HMM**: We will perform inference using the trained HMM."
   ]
  },
  {
   "cell_type": "markdown",
   "id": "ae2187f5",
   "metadata": {},
   "source": [
    "## 1. Loading prepared data\n",
    "Here we will load the prepared data from the previous notebook `1_prepare-data.ipynb`. Recall that the data was prepared with TDE and PCA, before a final standardisation step was applied."
   ]
  },
  {
   "cell_type": "code",
   "execution_count": 1,
   "id": "a4c39d52",
   "metadata": {},
   "outputs": [
    {
     "data": {
      "application/vnd.jupyter.widget-view+json": {
       "model_id": "8a49f5ed3ab74190bd8902ef8b81e039",
       "version_major": 2,
       "version_minor": 0
      },
      "text/plain": [
       "Loading files:   0%|          | 0/5 [00:00<?, ?it/s]"
      ]
     },
     "metadata": {},
     "output_type": "display_data"
    }
   ],
   "source": [
    "from osl_dynamics.data import Data\n",
    "\n",
    "data = Data(\"prepared_data\")"
   ]
  },
  {
   "cell_type": "markdown",
   "id": "5c65ec0f",
   "metadata": {},
   "source": [
    "## 2. Configuring the HMM\n",
    "The HMM can be configured with the `Config` and `Model` API in the `osl_dynamics.models.hmm` module. The `Config` class is used to set up the model parameters, while the `Model` class is used to create the model object itself."
   ]
  },
  {
   "cell_type": "code",
   "execution_count": 2,
   "id": "a191ab1c",
   "metadata": {},
   "outputs": [],
   "source": [
    "from osl_dynamics.models.hmm import Config, Model\n",
    "\n",
    "config = Config(\n",
    "    n_states=6,\n",
    "    n_channels=data.n_channels,\n",
    "    sequence_length=200,\n",
    "    learn_means=False,\n",
    "    learn_covariances=True,\n",
    "    batch_size=128,\n",
    "    learning_rate=0.01,\n",
    "    n_epochs=20,\n",
    ")\n",
    "model = Model(config)"
   ]
  },
  {
   "cell_type": "markdown",
   "id": "074bb4b1",
   "metadata": {},
   "source": [
    "Once you have created the model, you can have a look at a summary of the model by calling the `Model.summary()` method."
   ]
  },
  {
   "cell_type": "code",
   "execution_count": 3,
   "id": "e3c35003",
   "metadata": {
    "scrolled": true
   },
   "outputs": [
    {
     "data": {
      "text/html": [
       "<pre style=\"white-space:pre;overflow-x:auto;line-height:normal;font-family:Menlo,'DejaVu Sans Mono',consolas,'Courier New',monospace\"><span style=\"font-weight: bold\">Model: \"HMM\"</span>\n",
       "</pre>\n"
      ],
      "text/plain": [
       "\u001b[1mModel: \"HMM\"\u001b[0m\n"
      ]
     },
     "metadata": {},
     "output_type": "display_data"
    },
    {
     "data": {
      "text/html": [
       "<pre style=\"white-space:pre;overflow-x:auto;line-height:normal;font-family:Menlo,'DejaVu Sans Mono',consolas,'Courier New',monospace\">┏━━━━━━━━━━━━━━━━━━━━━┳━━━━━━━━━━━━━━━━━━━┳━━━━━━━━━━━━┳━━━━━━━━━━━━━━━━━━━┓\n",
       "┃<span style=\"font-weight: bold\"> Layer (type)        </span>┃<span style=\"font-weight: bold\"> Output Shape      </span>┃<span style=\"font-weight: bold\">    Param # </span>┃<span style=\"font-weight: bold\"> Connected to      </span>┃\n",
       "┡━━━━━━━━━━━━━━━━━━━━━╇━━━━━━━━━━━━━━━━━━━╇━━━━━━━━━━━━╇━━━━━━━━━━━━━━━━━━━┩\n",
       "│ data (<span style=\"color: #0087ff; text-decoration-color: #0087ff\">InputLayer</span>)   │ (<span style=\"color: #00d7ff; text-decoration-color: #00d7ff\">None</span>, <span style=\"color: #00af00; text-decoration-color: #00af00\">200</span>, <span style=\"color: #00af00; text-decoration-color: #00af00\">80</span>)   │          <span style=\"color: #00af00; text-decoration-color: #00af00\">0</span> │ -                 │\n",
       "├─────────────────────┼───────────────────┼────────────┼───────────────────┤\n",
       "│ means               │ (<span style=\"color: #00af00; text-decoration-color: #00af00\">6</span>, <span style=\"color: #00af00; text-decoration-color: #00af00\">80</span>)           │        <span style=\"color: #00af00; text-decoration-color: #00af00\">480</span> │ data[<span style=\"color: #00af00; text-decoration-color: #00af00\">0</span>][<span style=\"color: #00af00; text-decoration-color: #00af00\">0</span>]        │\n",
       "│ (<span style=\"color: #0087ff; text-decoration-color: #0087ff\">VectorsLayer</span>)      │                   │            │                   │\n",
       "├─────────────────────┼───────────────────┼────────────┼───────────────────┤\n",
       "│ covs                │ (<span style=\"color: #00af00; text-decoration-color: #00af00\">6</span>, <span style=\"color: #00af00; text-decoration-color: #00af00\">80</span>, <span style=\"color: #00af00; text-decoration-color: #00af00\">80</span>)       │     <span style=\"color: #00af00; text-decoration-color: #00af00\">19,440</span> │ data[<span style=\"color: #00af00; text-decoration-color: #00af00\">0</span>][<span style=\"color: #00af00; text-decoration-color: #00af00\">0</span>]        │\n",
       "│ (<span style=\"color: #0087ff; text-decoration-color: #0087ff\">CovarianceMatrice…</span> │                   │            │                   │\n",
       "├─────────────────────┼───────────────────┼────────────┼───────────────────┤\n",
       "│ ll                  │ (<span style=\"color: #00d7ff; text-decoration-color: #00d7ff\">None</span>, <span style=\"color: #00af00; text-decoration-color: #00af00\">200</span>, <span style=\"color: #00af00; text-decoration-color: #00af00\">80</span>)   │          <span style=\"color: #00af00; text-decoration-color: #00af00\">0</span> │ data[<span style=\"color: #00af00; text-decoration-color: #00af00\">0</span>][<span style=\"color: #00af00; text-decoration-color: #00af00\">0</span>],       │\n",
       "│ (<span style=\"color: #0087ff; text-decoration-color: #0087ff\">SeparateLogLikeli…</span> │                   │            │ means[<span style=\"color: #00af00; text-decoration-color: #00af00\">0</span>][<span style=\"color: #00af00; text-decoration-color: #00af00\">0</span>],      │\n",
       "│                     │                   │            │ covs[<span style=\"color: #00af00; text-decoration-color: #00af00\">0</span>][<span style=\"color: #00af00; text-decoration-color: #00af00\">0</span>]        │\n",
       "├─────────────────────┼───────────────────┼────────────┼───────────────────┤\n",
       "│ cast (<span style=\"color: #0087ff; text-decoration-color: #0087ff\">Cast</span>)         │ (<span style=\"color: #00d7ff; text-decoration-color: #00d7ff\">None</span>, <span style=\"color: #00af00; text-decoration-color: #00af00\">200</span>, <span style=\"color: #00af00; text-decoration-color: #00af00\">80</span>)   │          <span style=\"color: #00af00; text-decoration-color: #00af00\">0</span> │ ll[<span style=\"color: #00af00; text-decoration-color: #00af00\">0</span>][<span style=\"color: #00af00; text-decoration-color: #00af00\">0</span>]          │\n",
       "├─────────────────────┼───────────────────┼────────────┼───────────────────┤\n",
       "│ hid_state_inf       │ [(<span style=\"color: #00d7ff; text-decoration-color: #00d7ff\">None</span>, <span style=\"color: #00af00; text-decoration-color: #00af00\">200</span>, <span style=\"color: #00af00; text-decoration-color: #00af00\">80</span>), │         <span style=\"color: #00af00; text-decoration-color: #00af00\">42</span> │ cast[<span style=\"color: #00af00; text-decoration-color: #00af00\">0</span>][<span style=\"color: #00af00; text-decoration-color: #00af00\">0</span>]        │\n",
       "│ (<span style=\"color: #0087ff; text-decoration-color: #0087ff\">HiddenMarkovState…</span> │ (<span style=\"color: #00d7ff; text-decoration-color: #00d7ff\">None</span>, <span style=\"color: #00af00; text-decoration-color: #00af00\">200</span>, <span style=\"color: #00af00; text-decoration-color: #00af00\">6</span>,    │            │                   │\n",
       "│                     │ <span style=\"color: #00af00; text-decoration-color: #00af00\">6</span>)]               │            │                   │\n",
       "├─────────────────────┼───────────────────┼────────────┼───────────────────┤\n",
       "│ cast_1 (<span style=\"color: #0087ff; text-decoration-color: #0087ff\">Cast</span>)       │ (<span style=\"color: #00d7ff; text-decoration-color: #00d7ff\">None</span>, <span style=\"color: #00af00; text-decoration-color: #00af00\">200</span>, <span style=\"color: #00af00; text-decoration-color: #00af00\">80</span>)   │          <span style=\"color: #00af00; text-decoration-color: #00af00\">0</span> │ hid_state_inf[<span style=\"color: #00af00; text-decoration-color: #00af00\">0</span>]… │\n",
       "├─────────────────────┼───────────────────┼────────────┼───────────────────┤\n",
       "│ ll_loss             │ (<span style=\"color: #00af00; text-decoration-color: #00af00\">1</span>)               │          <span style=\"color: #00af00; text-decoration-color: #00af00\">0</span> │ ll[<span style=\"color: #00af00; text-decoration-color: #00af00\">0</span>][<span style=\"color: #00af00; text-decoration-color: #00af00\">0</span>],         │\n",
       "│ (<span style=\"color: #0087ff; text-decoration-color: #0087ff\">SumLogLikelihoodL…</span> │                   │            │ cast_1[<span style=\"color: #00af00; text-decoration-color: #00af00\">0</span>][<span style=\"color: #00af00; text-decoration-color: #00af00\">0</span>]      │\n",
       "└─────────────────────┴───────────────────┴────────────┴───────────────────┘\n",
       "</pre>\n"
      ],
      "text/plain": [
       "┏━━━━━━━━━━━━━━━━━━━━━┳━━━━━━━━━━━━━━━━━━━┳━━━━━━━━━━━━┳━━━━━━━━━━━━━━━━━━━┓\n",
       "┃\u001b[1m \u001b[0m\u001b[1mLayer (type)       \u001b[0m\u001b[1m \u001b[0m┃\u001b[1m \u001b[0m\u001b[1mOutput Shape     \u001b[0m\u001b[1m \u001b[0m┃\u001b[1m \u001b[0m\u001b[1m   Param #\u001b[0m\u001b[1m \u001b[0m┃\u001b[1m \u001b[0m\u001b[1mConnected to     \u001b[0m\u001b[1m \u001b[0m┃\n",
       "┡━━━━━━━━━━━━━━━━━━━━━╇━━━━━━━━━━━━━━━━━━━╇━━━━━━━━━━━━╇━━━━━━━━━━━━━━━━━━━┩\n",
       "│ data (\u001b[38;5;33mInputLayer\u001b[0m)   │ (\u001b[38;5;45mNone\u001b[0m, \u001b[38;5;34m200\u001b[0m, \u001b[38;5;34m80\u001b[0m)   │          \u001b[38;5;34m0\u001b[0m │ -                 │\n",
       "├─────────────────────┼───────────────────┼────────────┼───────────────────┤\n",
       "│ means               │ (\u001b[38;5;34m6\u001b[0m, \u001b[38;5;34m80\u001b[0m)           │        \u001b[38;5;34m480\u001b[0m │ data[\u001b[38;5;34m0\u001b[0m][\u001b[38;5;34m0\u001b[0m]        │\n",
       "│ (\u001b[38;5;33mVectorsLayer\u001b[0m)      │                   │            │                   │\n",
       "├─────────────────────┼───────────────────┼────────────┼───────────────────┤\n",
       "│ covs                │ (\u001b[38;5;34m6\u001b[0m, \u001b[38;5;34m80\u001b[0m, \u001b[38;5;34m80\u001b[0m)       │     \u001b[38;5;34m19,440\u001b[0m │ data[\u001b[38;5;34m0\u001b[0m][\u001b[38;5;34m0\u001b[0m]        │\n",
       "│ (\u001b[38;5;33mCovarianceMatrice…\u001b[0m │                   │            │                   │\n",
       "├─────────────────────┼───────────────────┼────────────┼───────────────────┤\n",
       "│ ll                  │ (\u001b[38;5;45mNone\u001b[0m, \u001b[38;5;34m200\u001b[0m, \u001b[38;5;34m80\u001b[0m)   │          \u001b[38;5;34m0\u001b[0m │ data[\u001b[38;5;34m0\u001b[0m][\u001b[38;5;34m0\u001b[0m],       │\n",
       "│ (\u001b[38;5;33mSeparateLogLikeli…\u001b[0m │                   │            │ means[\u001b[38;5;34m0\u001b[0m][\u001b[38;5;34m0\u001b[0m],      │\n",
       "│                     │                   │            │ covs[\u001b[38;5;34m0\u001b[0m][\u001b[38;5;34m0\u001b[0m]        │\n",
       "├─────────────────────┼───────────────────┼────────────┼───────────────────┤\n",
       "│ cast (\u001b[38;5;33mCast\u001b[0m)         │ (\u001b[38;5;45mNone\u001b[0m, \u001b[38;5;34m200\u001b[0m, \u001b[38;5;34m80\u001b[0m)   │          \u001b[38;5;34m0\u001b[0m │ ll[\u001b[38;5;34m0\u001b[0m][\u001b[38;5;34m0\u001b[0m]          │\n",
       "├─────────────────────┼───────────────────┼────────────┼───────────────────┤\n",
       "│ hid_state_inf       │ [(\u001b[38;5;45mNone\u001b[0m, \u001b[38;5;34m200\u001b[0m, \u001b[38;5;34m80\u001b[0m), │         \u001b[38;5;34m42\u001b[0m │ cast[\u001b[38;5;34m0\u001b[0m][\u001b[38;5;34m0\u001b[0m]        │\n",
       "│ (\u001b[38;5;33mHiddenMarkovState…\u001b[0m │ (\u001b[38;5;45mNone\u001b[0m, \u001b[38;5;34m200\u001b[0m, \u001b[38;5;34m6\u001b[0m,    │            │                   │\n",
       "│                     │ \u001b[38;5;34m6\u001b[0m)]               │            │                   │\n",
       "├─────────────────────┼───────────────────┼────────────┼───────────────────┤\n",
       "│ cast_1 (\u001b[38;5;33mCast\u001b[0m)       │ (\u001b[38;5;45mNone\u001b[0m, \u001b[38;5;34m200\u001b[0m, \u001b[38;5;34m80\u001b[0m)   │          \u001b[38;5;34m0\u001b[0m │ hid_state_inf[\u001b[38;5;34m0\u001b[0m]… │\n",
       "├─────────────────────┼───────────────────┼────────────┼───────────────────┤\n",
       "│ ll_loss             │ (\u001b[38;5;34m1\u001b[0m)               │          \u001b[38;5;34m0\u001b[0m │ ll[\u001b[38;5;34m0\u001b[0m][\u001b[38;5;34m0\u001b[0m],         │\n",
       "│ (\u001b[38;5;33mSumLogLikelihoodL…\u001b[0m │                   │            │ cast_1[\u001b[38;5;34m0\u001b[0m][\u001b[38;5;34m0\u001b[0m]      │\n",
       "└─────────────────────┴───────────────────┴────────────┴───────────────────┘\n"
      ]
     },
     "metadata": {},
     "output_type": "display_data"
    },
    {
     "data": {
      "text/html": [
       "<pre style=\"white-space:pre;overflow-x:auto;line-height:normal;font-family:Menlo,'DejaVu Sans Mono',consolas,'Courier New',monospace\"><span style=\"font-weight: bold\"> Total params: </span><span style=\"color: #00af00; text-decoration-color: #00af00\">19,962</span> (77.98 KB)\n",
       "</pre>\n"
      ],
      "text/plain": [
       "\u001b[1m Total params: \u001b[0m\u001b[38;5;34m19,962\u001b[0m (77.98 KB)\n"
      ]
     },
     "metadata": {},
     "output_type": "display_data"
    },
    {
     "data": {
      "text/html": [
       "<pre style=\"white-space:pre;overflow-x:auto;line-height:normal;font-family:Menlo,'DejaVu Sans Mono',consolas,'Courier New',monospace\"><span style=\"font-weight: bold\"> Trainable params: </span><span style=\"color: #00af00; text-decoration-color: #00af00\">19,482</span> (76.10 KB)\n",
       "</pre>\n"
      ],
      "text/plain": [
       "\u001b[1m Trainable params: \u001b[0m\u001b[38;5;34m19,482\u001b[0m (76.10 KB)\n"
      ]
     },
     "metadata": {},
     "output_type": "display_data"
    },
    {
     "data": {
      "text/html": [
       "<pre style=\"white-space:pre;overflow-x:auto;line-height:normal;font-family:Menlo,'DejaVu Sans Mono',consolas,'Courier New',monospace\"><span style=\"font-weight: bold\"> Non-trainable params: </span><span style=\"color: #00af00; text-decoration-color: #00af00\">480</span> (1.88 KB)\n",
       "</pre>\n"
      ],
      "text/plain": [
       "\u001b[1m Non-trainable params: \u001b[0m\u001b[38;5;34m480\u001b[0m (1.88 KB)\n"
      ]
     },
     "metadata": {},
     "output_type": "display_data"
    }
   ],
   "source": [
    "model.summary()"
   ]
  },
  {
   "cell_type": "markdown",
   "id": "a2cea5cd",
   "metadata": {},
   "source": [
    "### Exercise\n",
    "- What do the options in the `Config` class do? Can you find the documentation for the `Config` class and figure out yourself?\n",
    "- Why do you see `Non-trainable params: 480 (1.88KB)` in the summary? What does this mean?"
   ]
  },
  {
   "cell_type": "markdown",
   "id": "2213a63a",
   "metadata": {},
   "source": [
    "## 3. Training the HMM (optional - might take a while, ~20 - 60s per epoch)\n",
    "\n",
    "Now we can start training the HMM. Due to the stochastic nature of the process of training the HMM and non-convexity of the loss function, we normally initialise the model with multiple initialisations. We then continue training the model with the best performing initialisation.\n",
    "\n",
    "Here we initialise the model by training it with 3 different initialisations, each of which is trained for 1 epoch. For the HMM, this is often enough of an initialisation to get reproducible results. `n_init` could be increased if you find a high run-to-run variability."
   ]
  },
  {
   "cell_type": "code",
   "execution_count": 4,
   "id": "1db163e8",
   "metadata": {},
   "outputs": [
    {
     "name": "stderr",
     "output_type": "stream",
     "text": [
      "2025-05-16 16:42:59 INFO osl-dynamics [inf_mod_base.py:1376:random_state_time_course_initialization]: Random state time course initialization\n",
      "2025-05-16 16:42:59 INFO osl-dynamics [inf_mod_base.py:1395:random_state_time_course_initialization]: Initialization 0\n",
      "2025-05-16 16:42:59 INFO osl-dynamics [inf_mod_base.py:1435:set_random_state_time_course_initialization]: Setting random means and covariances\n",
      "2025-05-16 16:43:00.010188: I tensorflow/core/framework/local_rendezvous.cc:407] Local rendezvous is aborting with status: OUT_OF_RANGE: End of sequence\n"
     ]
    },
    {
     "name": "stdout",
     "output_type": "stream",
     "text": [
      "\u001b[1m23/23\u001b[0m \u001b[32m━━━━━━━━━━━━━━━━━━━━\u001b[0m\u001b[37m\u001b[0m \u001b[1m19s\u001b[0m 704ms/step - ll_loss: 112.5480 - loss: 112.5480 - learning_rate: 0.0100 - rho: 0.2853\n"
     ]
    },
    {
     "name": "stderr",
     "output_type": "stream",
     "text": [
      "2025-05-16 16:43:18 INFO osl-dynamics [inf_mod_base.py:1395:random_state_time_course_initialization]: Initialization 1\n",
      "2025-05-16 16:43:18 INFO osl-dynamics [inf_mod_base.py:1435:set_random_state_time_course_initialization]: Setting random means and covariances\n",
      "2025-05-16 16:43:19.347012: I tensorflow/core/framework/local_rendezvous.cc:407] Local rendezvous is aborting with status: OUT_OF_RANGE: End of sequence\n"
     ]
    },
    {
     "name": "stdout",
     "output_type": "stream",
     "text": [
      "\u001b[1m23/23\u001b[0m \u001b[32m━━━━━━━━━━━━━━━━━━━━\u001b[0m\u001b[37m\u001b[0m \u001b[1m17s\u001b[0m 704ms/step - ll_loss: 112.7803 - loss: 112.7803 - learning_rate: 0.0100 - rho: 0.2853\n"
     ]
    },
    {
     "name": "stderr",
     "output_type": "stream",
     "text": [
      "2025-05-16 16:43:36 INFO osl-dynamics [inf_mod_base.py:1395:random_state_time_course_initialization]: Initialization 2\n",
      "2025-05-16 16:43:36 INFO osl-dynamics [inf_mod_base.py:1435:set_random_state_time_course_initialization]: Setting random means and covariances\n"
     ]
    },
    {
     "name": "stdout",
     "output_type": "stream",
     "text": [
      "\u001b[1m23/23\u001b[0m \u001b[32m━━━━━━━━━━━━━━━━━━━━\u001b[0m\u001b[37m\u001b[0m \u001b[1m17s\u001b[0m 686ms/step - ll_loss: 112.4924 - loss: 112.4924 - learning_rate: 0.0100 - rho: 0.2853\n"
     ]
    },
    {
     "name": "stderr",
     "output_type": "stream",
     "text": [
      "2025-05-16 16:43:54 INFO osl-dynamics [inf_mod_base.py:1421:random_state_time_course_initialization]: Using initialization 0\n"
     ]
    }
   ],
   "source": [
    "init_history = model.random_state_time_course_initialization(data, n_init=3, n_epochs=1)"
   ]
  },
  {
   "cell_type": "markdown",
   "id": "724da530",
   "metadata": {},
   "source": [
    "Now we have a good initialisation, we do the full model training by calling the `Model.fit()` method."
   ]
  },
  {
   "cell_type": "code",
   "execution_count": 5,
   "id": "4bc794d1",
   "metadata": {},
   "outputs": [
    {
     "name": "stdout",
     "output_type": "stream",
     "text": [
      "Epoch 1/20\n",
      "\u001b[1m23/23\u001b[0m \u001b[32m━━━━━━━━━━━━━━━━━━━━\u001b[0m\u001b[37m\u001b[0m \u001b[1m18s\u001b[0m 733ms/step - ll_loss: 111.7066 - loss: 111.7066 - learning_rate: 0.0100 - rho: 0.2853\n",
      "Epoch 2/20\n",
      "\u001b[1m23/23\u001b[0m \u001b[32m━━━━━━━━━━━━━━━━━━━━\u001b[0m\u001b[37m\u001b[0m \u001b[1m17s\u001b[0m 707ms/step - ll_loss: 111.5196 - loss: 111.5196 - learning_rate: 0.0090 - rho: 0.1866\n",
      "Epoch 3/20\n",
      "\u001b[1m23/23\u001b[0m \u001b[32m━━━━━━━━━━━━━━━━━━━━\u001b[0m\u001b[37m\u001b[0m \u001b[1m17s\u001b[0m 714ms/step - ll_loss: 111.5222 - loss: 111.5222 - learning_rate: 0.0082 - rho: 0.1436\n",
      "Epoch 4/20\n",
      "\u001b[1m23/23\u001b[0m \u001b[32m━━━━━━━━━━━━━━━━━━━━\u001b[0m\u001b[37m\u001b[0m \u001b[1m17s\u001b[0m 736ms/step - ll_loss: 111.3790 - loss: 111.3790 - learning_rate: 0.0074 - rho: 0.1187\n",
      "Epoch 5/20\n",
      "\u001b[1m23/23\u001b[0m \u001b[32m━━━━━━━━━━━━━━━━━━━━\u001b[0m\u001b[37m\u001b[0m \u001b[1m18s\u001b[0m 756ms/step - ll_loss: 111.2623 - loss: 111.2623 - learning_rate: 0.0067 - rho: 0.1022\n",
      "Epoch 6/20\n",
      "\u001b[1m23/23\u001b[0m \u001b[32m━━━━━━━━━━━━━━━━━━━━\u001b[0m\u001b[37m\u001b[0m \u001b[1m17s\u001b[0m 727ms/step - ll_loss: 111.3188 - loss: 111.3189 - learning_rate: 0.0061 - rho: 0.0904\n",
      "Epoch 7/20\n",
      "\u001b[1m23/23\u001b[0m \u001b[32m━━━━━━━━━━━━━━━━━━━━\u001b[0m\u001b[37m\u001b[0m \u001b[1m17s\u001b[0m 722ms/step - ll_loss: 111.1365 - loss: 111.1366 - learning_rate: 0.0055 - rho: 0.0814\n",
      "Epoch 8/20\n",
      "\u001b[1m23/23\u001b[0m \u001b[32m━━━━━━━━━━━━━━━━━━━━\u001b[0m\u001b[37m\u001b[0m \u001b[1m17s\u001b[0m 738ms/step - ll_loss: 111.1565 - loss: 111.1566 - learning_rate: 0.0050 - rho: 0.0743\n",
      "Epoch 9/20\n",
      "\u001b[1m23/23\u001b[0m \u001b[32m━━━━━━━━━━━━━━━━━━━━\u001b[0m\u001b[37m\u001b[0m \u001b[1m17s\u001b[0m 725ms/step - ll_loss: 111.1047 - loss: 111.1047 - learning_rate: 0.0045 - rho: 0.0686\n",
      "Epoch 10/20\n",
      "\u001b[1m23/23\u001b[0m \u001b[32m━━━━━━━━━━━━━━━━━━━━\u001b[0m\u001b[37m\u001b[0m \u001b[1m17s\u001b[0m 731ms/step - ll_loss: 111.1931 - loss: 111.1930 - learning_rate: 0.0041 - rho: 0.0638\n",
      "Epoch 11/20\n",
      "\u001b[1m23/23\u001b[0m \u001b[32m━━━━━━━━━━━━━━━━━━━━\u001b[0m\u001b[37m\u001b[0m \u001b[1m17s\u001b[0m 743ms/step - ll_loss: 111.2433 - loss: 111.2433 - learning_rate: 0.0037 - rho: 0.0597\n",
      "Epoch 12/20\n",
      "\u001b[1m23/23\u001b[0m \u001b[32m━━━━━━━━━━━━━━━━━━━━\u001b[0m\u001b[37m\u001b[0m \u001b[1m17s\u001b[0m 739ms/step - ll_loss: 111.1430 - loss: 111.1430 - learning_rate: 0.0033 - rho: 0.0563\n",
      "Epoch 13/20\n",
      "\u001b[1m23/23\u001b[0m \u001b[32m━━━━━━━━━━━━━━━━━━━━\u001b[0m\u001b[37m\u001b[0m \u001b[1m18s\u001b[0m 752ms/step - ll_loss: 111.2031 - loss: 111.2031 - learning_rate: 0.0030 - rho: 0.0532\n",
      "Epoch 14/20\n",
      "\u001b[1m23/23\u001b[0m \u001b[32m━━━━━━━━━━━━━━━━━━━━\u001b[0m\u001b[37m\u001b[0m \u001b[1m18s\u001b[0m 762ms/step - ll_loss: 111.2341 - loss: 111.2341 - learning_rate: 0.0027 - rho: 0.0506\n",
      "Epoch 15/20\n",
      "\u001b[1m23/23\u001b[0m \u001b[32m━━━━━━━━━━━━━━━━━━━━\u001b[0m\u001b[37m\u001b[0m \u001b[1m18s\u001b[0m 793ms/step - ll_loss: 111.3337 - loss: 111.3336 - learning_rate: 0.0025 - rho: 0.0482\n",
      "Epoch 16/20\n",
      "\u001b[1m23/23\u001b[0m \u001b[32m━━━━━━━━━━━━━━━━━━━━\u001b[0m\u001b[37m\u001b[0m \u001b[1m19s\u001b[0m 798ms/step - ll_loss: 111.2017 - loss: 111.2017 - learning_rate: 0.0022 - rho: 0.0461\n",
      "Epoch 17/20\n",
      "\u001b[1m23/23\u001b[0m \u001b[32m━━━━━━━━━━━━━━━━━━━━\u001b[0m\u001b[37m\u001b[0m \u001b[1m19s\u001b[0m 824ms/step - ll_loss: 111.0799 - loss: 111.0800 - learning_rate: 0.0020 - rho: 0.0442\n",
      "Epoch 18/20\n",
      "\u001b[1m23/23\u001b[0m \u001b[32m━━━━━━━━━━━━━━━━━━━━\u001b[0m\u001b[37m\u001b[0m \u001b[1m19s\u001b[0m 821ms/step - ll_loss: 111.0295 - loss: 111.0295 - learning_rate: 0.0018 - rho: 0.0425\n",
      "Epoch 19/20\n",
      "\u001b[1m23/23\u001b[0m \u001b[32m━━━━━━━━━━━━━━━━━━━━\u001b[0m\u001b[37m\u001b[0m \u001b[1m19s\u001b[0m 795ms/step - ll_loss: 111.1570 - loss: 111.1570 - learning_rate: 0.0017 - rho: 0.0410\n",
      "Epoch 20/20\n",
      "\u001b[1m23/23\u001b[0m \u001b[32m━━━━━━━━━━━━━━━━━━━━\u001b[0m\u001b[37m\u001b[0m \u001b[1m18s\u001b[0m 790ms/step - ll_loss: 111.1055 - loss: 111.1055 - learning_rate: 0.0015 - rho: 0.0395\n"
     ]
    }
   ],
   "source": [
    "history = model.fit(data)"
   ]
  },
  {
   "cell_type": "markdown",
   "id": "1573136f",
   "metadata": {},
   "source": [
    "After training, we can save the trained model with the `Model.save()` method."
   ]
  },
  {
   "cell_type": "code",
   "execution_count": 6,
   "id": "6d1b1ddc",
   "metadata": {},
   "outputs": [],
   "source": [
    "import os\n",
    "\n",
    "os.makedirs(\"results/model\", exist_ok=True)\n",
    "model.save(\"results/model\")"
   ]
  },
  {
   "cell_type": "markdown",
   "id": "752b3cd2",
   "metadata": {},
   "source": [
    "The free energy is a measure of how well the model fits the data, with \"regularisation\" term added for measuring the complexity of the model. We can get the free energy on a dataset by calling the `Model.free_energy()` method. Here we will get the free energy on the training data and save the training history to a `.pkl` file."
   ]
  },
  {
   "cell_type": "code",
   "execution_count": 7,
   "id": "e024cbc0",
   "metadata": {},
   "outputs": [
    {
     "data": {
      "application/vnd.jupyter.widget-view+json": {
       "model_id": "eb8936979c5147388dda9bb15705bd6f",
       "version_major": 2,
       "version_minor": 0
      },
      "text/plain": [
       "Getting free energy:   0%|          | 0/24 [00:00<?, ?it/s]"
      ]
     },
     "metadata": {},
     "output_type": "display_data"
    },
    {
     "name": "stderr",
     "output_type": "stream",
     "text": [
      "2025-05-16 16:49:50.754271: I tensorflow/core/framework/local_rendezvous.cc:407] Local rendezvous is aborting with status: OUT_OF_RANGE: End of sequence\n"
     ]
    }
   ],
   "source": [
    "import pickle\n",
    "\n",
    "free_energy = model.free_energy(data)\n",
    "history[\"free_energy\"] = free_energy\n",
    "\n",
    "pickle.dump(init_history, open(\"results/model/init_history.pkl\", \"wb\"))\n",
    "pickle.dump(history, open(\"results/model/history.pkl\", \"wb\"))"
   ]
  },
  {
   "cell_type": "markdown",
   "id": "9983c322",
   "metadata": {},
   "source": [
    "## 4. Loading a pretrained model\n",
    "We have also supplied a pretrained model. If you have not trained the model yourself following the above steps, you can download the pretrained model by checking out the `0_get_model.ipynb` notebook.\n",
    "\n",
    "`osl-dynamics` comes with a function to load pretrained models in the `osl_dynamics.models` module."
   ]
  },
  {
   "cell_type": "code",
   "execution_count": 8,
   "id": "cd3a787e",
   "metadata": {},
   "outputs": [
    {
     "name": "stderr",
     "output_type": "stream",
     "text": [
      "2025-05-16 16:49:50 INFO osl-dynamics [mod_base.py:699:load]: Loading model: results/model\n"
     ]
    }
   ],
   "source": [
    "from osl_dynamics.models import load\n",
    "\n",
    "model = load('results/model')"
   ]
  },
  {
   "cell_type": "markdown",
   "id": "26574598",
   "metadata": {},
   "source": [
    "## 5. Inference with the HMM\n",
    "Now that we have a trained HMM, we can use it to infer useful information about the data. These include:\n",
    "- The state time courses (posterior state probabilities - $\\alpha$)\n",
    "- The state means.\n",
    "- The state covariance matrices.\n",
    "- The probability transition matrix.\n",
    "- The initial state probabilities."
   ]
  },
  {
   "cell_type": "code",
   "execution_count": 9,
   "id": "ba0d6617",
   "metadata": {},
   "outputs": [
    {
     "data": {
      "application/vnd.jupyter.widget-view+json": {
       "model_id": "c260589b2f0848b4bd5263553d041279",
       "version_major": 2,
       "version_minor": 0
      },
      "text/plain": [
       "Getting alpha:   0%|          | 0/5 [00:00<?, ?it/s]"
      ]
     },
     "metadata": {},
     "output_type": "display_data"
    }
   ],
   "source": [
    "import numpy as np\n",
    "import os\n",
    "import pickle\n",
    "\n",
    "inf_params_dir = \"results/inf_params\"\n",
    "os.makedirs(inf_params_dir, exist_ok=True)\n",
    "\n",
    "alp = model.get_alpha(data)\n",
    "means = model.get_means()\n",
    "covs = model.get_covariances()\n",
    "trans_prob = model.get_trans_prob()\n",
    "initial_state_probs = model.get_initial_state_probs()\n",
    "\n",
    "pickle.dump(alp, open(f\"{inf_params_dir}/alp.pkl\", \"wb\"))\n",
    "np.save(f\"{inf_params_dir}/means.npy\", means)\n",
    "np.save(f\"{inf_params_dir}/covs.npy\", covs)\n",
    "np.save(f\"{inf_params_dir}/trans_prob.npy\", trans_prob)\n",
    "np.save(f\"{inf_params_dir}/initial_state_probs.npy\", initial_state_probs)"
   ]
  },
  {
   "cell_type": "markdown",
   "id": "e7289686",
   "metadata": {},
   "source": [
    "## Exercise\n",
    "How do you get the viterbi path?"
   ]
  },
  {
   "cell_type": "code",
   "execution_count": 10,
   "id": "ad847843",
   "metadata": {},
   "outputs": [
    {
     "data": {
      "application/vnd.jupyter.widget-view+json": {
       "model_id": "d34d8f0e823b4f408134c52325a2b8b4",
       "version_major": 2,
       "version_minor": 0
      },
      "text/plain": [
       "Getting Viterbi path:   0%|          | 0/5 [00:00<?, ?it/s]"
      ]
     },
     "metadata": {},
     "output_type": "display_data"
    },
    {
     "name": "stderr",
     "output_type": "stream",
     "text": [
      "2025-05-16 16:49:55.636441: I tensorflow/core/framework/local_rendezvous.cc:407] Local rendezvous is aborting with status: OUT_OF_RANGE: End of sequence\n"
     ]
    }
   ],
   "source": [
    "viterbi_path = model.get_viterbi_path(data)"
   ]
  },
  {
   "cell_type": "markdown",
   "id": "b36713ea-efff-4715-8cdf-50faad301309",
   "metadata": {},
   "source": [
    "We can plot the viterbi path of the first 8 seconds of the first session."
   ]
  },
  {
   "cell_type": "code",
   "execution_count": 11,
   "id": "b554c32f-c794-41d0-a708-2ba57f423765",
   "metadata": {},
   "outputs": [
    {
     "data": {
      "text/plain": [
       "(<Figure size 1200x250 with 2 Axes>, [<Axes: xlabel='Time (s)'>])"
      ]
     },
     "execution_count": 11,
     "metadata": {},
     "output_type": "execute_result"
    },
    {
     "data": {
      "image/png": "[encoded data removed]",
      "text/plain": [
       "<Figure size 1200x250 with 2 Axes>"
      ]
     },
     "metadata": {},
     "output_type": "display_data"
    }
   ],
   "source": [
    "from osl_dynamics.utils import plotting\n",
    "\n",
    "plotting.plot_alpha(\n",
    "    viterbi_path[0],\n",
    "    n_samples=2000,\n",
    "    sampling_frequency=250,\n",
    ")"
   ]
  },
  {
   "cell_type": "markdown",
   "id": "2decc2f0",
   "metadata": {},
   "source": [
    "Note: The viterbi path is the most likely sequence of hidden states given the observed data. The difference between the viterbi path and directly using the argmax of the posterior state probabilities is that the viterbi path maximises the joint posterior distribution of the entire sequence of hidden states given the observed data, while the argmax of the posterior state probabilities only maximises the marginal posterior distribution.\n",
    "\n",
    "Normally we would use the argmax of the posterior state probabilities due to the fact that the viterbi path can be computationally expensive to calculate."
   ]
  }
 ],
 "metadata": {
  "kernelspec": {
   "display_name": "Python 3 (ipykernel)",
   "language": "python",
   "name": "python3"
  },
  "language_info": {
   "codemirror_mode": {
    "name": "ipython",
    "version": 3
   },
   "file_extension": ".py",
   "mimetype": "text/x-python",
   "name": "python",
   "nbconvert_exporter": "python",
   "pygments_lexer": "ipython3",
   "version": "3.12.9"
  }
 },
 "nbformat": 4,
 "nbformat_minor": 5
}
